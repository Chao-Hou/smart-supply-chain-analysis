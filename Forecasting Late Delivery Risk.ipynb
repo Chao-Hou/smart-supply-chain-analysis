{
 "cells": [
  {
   "cell_type": "markdown",
   "id": "78ee8092",
   "metadata": {},
   "source": [
    "# 1-Importing Libraries and packages"
   ]
  },
  {
   "cell_type": "code",
   "execution_count": 2,
   "id": "b152c28e",
   "metadata": {
    "ExecuteTime": {
     "end_time": "2022-06-10T11:06:00.208222Z",
     "start_time": "2022-06-10T11:05:53.879931Z"
    }
   },
   "outputs": [],
   "source": [
    "import warnings\n",
    "warnings.filterwarnings('ignore')\n",
    "import numpy as np\n",
    "import pandas as pd \n",
    "import pickle\n",
    "from sklearn import preprocessing\n",
    "from sklearn import model_selection\n",
    "from sklearn.tree import DecisionTreeRegressor\n",
    "from sklearn.metrics import roc_auc_score,r2_score,mean_absolute_error,mean_squared_error,accuracy_score,classification_report,confusion_matrix\n",
    "import seaborn as sns\n",
    "import matplotlib.pyplot as plt"
   ]
  },
  {
   "cell_type": "markdown",
   "id": "c752a867",
   "metadata": {},
   "source": [
    "# 2-Dataset Importing"
   ]
  },
  {
   "cell_type": "code",
   "execution_count": 35,
   "id": "e862b595",
   "metadata": {
    "ExecuteTime": {
     "end_time": "2022-06-11T07:07:28.880431Z",
     "start_time": "2022-06-11T07:07:26.749436Z"
    },
    "scrolled": true
   },
   "outputs": [
    {
     "data": {
      "text/html": [
       "<div>\n",
       "<style scoped>\n",
       "    .dataframe tbody tr th:only-of-type {\n",
       "        vertical-align: middle;\n",
       "    }\n",
       "\n",
       "    .dataframe tbody tr th {\n",
       "        vertical-align: top;\n",
       "    }\n",
       "\n",
       "    .dataframe thead th {\n",
       "        text-align: right;\n",
       "    }\n",
       "</style>\n",
       "<table border=\"1\" class=\"dataframe\">\n",
       "  <thead>\n",
       "    <tr style=\"text-align: right;\">\n",
       "      <th></th>\n",
       "      <th>Type</th>\n",
       "      <th>Days for shipping (real)</th>\n",
       "      <th>Days for shipment (scheduled)</th>\n",
       "      <th>Benefit per order</th>\n",
       "      <th>Sales per customer</th>\n",
       "      <th>Delivery Status</th>\n",
       "      <th>Late_delivery_risk</th>\n",
       "      <th>Category Id</th>\n",
       "      <th>Category Name</th>\n",
       "      <th>Customer City</th>\n",
       "      <th>Customer Country</th>\n",
       "      <th>Customer Email</th>\n",
       "      <th>Customer Fname</th>\n",
       "      <th>Customer Id</th>\n",
       "      <th>Customer Lname</th>\n",
       "      <th>Customer Password</th>\n",
       "      <th>Customer Segment</th>\n",
       "      <th>Customer State</th>\n",
       "      <th>Customer Street</th>\n",
       "      <th>Customer Zipcode</th>\n",
       "      <th>Department Id</th>\n",
       "      <th>Department Name</th>\n",
       "      <th>Latitude</th>\n",
       "      <th>Longitude</th>\n",
       "      <th>Market</th>\n",
       "      <th>Order City</th>\n",
       "      <th>Order Country</th>\n",
       "      <th>Order Customer Id</th>\n",
       "      <th>order date (DateOrders)</th>\n",
       "      <th>Order Id</th>\n",
       "      <th>Order Item Cardprod Id</th>\n",
       "      <th>Order Item Discount</th>\n",
       "      <th>Order Item Discount Rate</th>\n",
       "      <th>Order Item Id</th>\n",
       "      <th>Order Item Product Price</th>\n",
       "      <th>Order Item Profit Ratio</th>\n",
       "      <th>Order Item Quantity</th>\n",
       "      <th>Sales</th>\n",
       "      <th>Order Item Total</th>\n",
       "      <th>Order Profit Per Order</th>\n",
       "      <th>Order Region</th>\n",
       "      <th>Order State</th>\n",
       "      <th>Order Status</th>\n",
       "      <th>Order Zipcode</th>\n",
       "      <th>Product Card Id</th>\n",
       "      <th>Product Category Id</th>\n",
       "      <th>Product Description</th>\n",
       "      <th>Product Image</th>\n",
       "      <th>Product Name</th>\n",
       "      <th>Product Price</th>\n",
       "      <th>Product Status</th>\n",
       "      <th>shipping date (DateOrders)</th>\n",
       "      <th>Shipping Mode</th>\n",
       "    </tr>\n",
       "  </thead>\n",
       "  <tbody>\n",
       "    <tr>\n",
       "      <th>0</th>\n",
       "      <td>DEBIT</td>\n",
       "      <td>3</td>\n",
       "      <td>4</td>\n",
       "      <td>91.250000</td>\n",
       "      <td>314.640015</td>\n",
       "      <td>Advance shipping</td>\n",
       "      <td>0</td>\n",
       "      <td>73</td>\n",
       "      <td>Sporting Goods</td>\n",
       "      <td>Caguas</td>\n",
       "      <td>Puerto Rico</td>\n",
       "      <td>XXXXXXXXX</td>\n",
       "      <td>Cally</td>\n",
       "      <td>20755</td>\n",
       "      <td>Holloway</td>\n",
       "      <td>XXXXXXXXX</td>\n",
       "      <td>Consumer</td>\n",
       "      <td>PR</td>\n",
       "      <td>5365 Noble Nectar Island</td>\n",
       "      <td>725.0</td>\n",
       "      <td>2</td>\n",
       "      <td>Fitness</td>\n",
       "      <td>18.251453</td>\n",
       "      <td>-66.037056</td>\n",
       "      <td>Pacific Asia</td>\n",
       "      <td>Bekasi</td>\n",
       "      <td>Indonesia</td>\n",
       "      <td>20755</td>\n",
       "      <td>1/31/2018 22:56</td>\n",
       "      <td>77202</td>\n",
       "      <td>1360</td>\n",
       "      <td>13.110000</td>\n",
       "      <td>0.04</td>\n",
       "      <td>180517</td>\n",
       "      <td>327.75</td>\n",
       "      <td>0.29</td>\n",
       "      <td>1</td>\n",
       "      <td>327.75</td>\n",
       "      <td>314.640015</td>\n",
       "      <td>91.250000</td>\n",
       "      <td>Southeast Asia</td>\n",
       "      <td>Java Occidental</td>\n",
       "      <td>COMPLETE</td>\n",
       "      <td>NaN</td>\n",
       "      <td>1360</td>\n",
       "      <td>73</td>\n",
       "      <td>NaN</td>\n",
       "      <td>http://images.acmesports.sports/Smart+watch</td>\n",
       "      <td>Smart watch</td>\n",
       "      <td>327.75</td>\n",
       "      <td>0</td>\n",
       "      <td>2/3/2018 22:56</td>\n",
       "      <td>Standard Class</td>\n",
       "    </tr>\n",
       "    <tr>\n",
       "      <th>1</th>\n",
       "      <td>TRANSFER</td>\n",
       "      <td>5</td>\n",
       "      <td>4</td>\n",
       "      <td>-249.089996</td>\n",
       "      <td>311.359985</td>\n",
       "      <td>Late delivery</td>\n",
       "      <td>1</td>\n",
       "      <td>73</td>\n",
       "      <td>Sporting Goods</td>\n",
       "      <td>Caguas</td>\n",
       "      <td>Puerto Rico</td>\n",
       "      <td>XXXXXXXXX</td>\n",
       "      <td>Irene</td>\n",
       "      <td>19492</td>\n",
       "      <td>Luna</td>\n",
       "      <td>XXXXXXXXX</td>\n",
       "      <td>Consumer</td>\n",
       "      <td>PR</td>\n",
       "      <td>2679 Rustic Loop</td>\n",
       "      <td>725.0</td>\n",
       "      <td>2</td>\n",
       "      <td>Fitness</td>\n",
       "      <td>18.279451</td>\n",
       "      <td>-66.037064</td>\n",
       "      <td>Pacific Asia</td>\n",
       "      <td>Bikaner</td>\n",
       "      <td>India</td>\n",
       "      <td>19492</td>\n",
       "      <td>1/13/2018 12:27</td>\n",
       "      <td>75939</td>\n",
       "      <td>1360</td>\n",
       "      <td>16.389999</td>\n",
       "      <td>0.05</td>\n",
       "      <td>179254</td>\n",
       "      <td>327.75</td>\n",
       "      <td>-0.80</td>\n",
       "      <td>1</td>\n",
       "      <td>327.75</td>\n",
       "      <td>311.359985</td>\n",
       "      <td>-249.089996</td>\n",
       "      <td>South Asia</td>\n",
       "      <td>Rajastán</td>\n",
       "      <td>PENDING</td>\n",
       "      <td>NaN</td>\n",
       "      <td>1360</td>\n",
       "      <td>73</td>\n",
       "      <td>NaN</td>\n",
       "      <td>http://images.acmesports.sports/Smart+watch</td>\n",
       "      <td>Smart watch</td>\n",
       "      <td>327.75</td>\n",
       "      <td>0</td>\n",
       "      <td>1/18/2018 12:27</td>\n",
       "      <td>Standard Class</td>\n",
       "    </tr>\n",
       "    <tr>\n",
       "      <th>2</th>\n",
       "      <td>CASH</td>\n",
       "      <td>4</td>\n",
       "      <td>4</td>\n",
       "      <td>-247.779999</td>\n",
       "      <td>309.720001</td>\n",
       "      <td>Shipping on time</td>\n",
       "      <td>0</td>\n",
       "      <td>73</td>\n",
       "      <td>Sporting Goods</td>\n",
       "      <td>San Jose</td>\n",
       "      <td>EE. UU.</td>\n",
       "      <td>XXXXXXXXX</td>\n",
       "      <td>Gillian</td>\n",
       "      <td>19491</td>\n",
       "      <td>Maldonado</td>\n",
       "      <td>XXXXXXXXX</td>\n",
       "      <td>Consumer</td>\n",
       "      <td>CA</td>\n",
       "      <td>8510 Round Bear Gate</td>\n",
       "      <td>95125.0</td>\n",
       "      <td>2</td>\n",
       "      <td>Fitness</td>\n",
       "      <td>37.292233</td>\n",
       "      <td>-121.881279</td>\n",
       "      <td>Pacific Asia</td>\n",
       "      <td>Bikaner</td>\n",
       "      <td>India</td>\n",
       "      <td>19491</td>\n",
       "      <td>1/13/2018 12:06</td>\n",
       "      <td>75938</td>\n",
       "      <td>1360</td>\n",
       "      <td>18.030001</td>\n",
       "      <td>0.06</td>\n",
       "      <td>179253</td>\n",
       "      <td>327.75</td>\n",
       "      <td>-0.80</td>\n",
       "      <td>1</td>\n",
       "      <td>327.75</td>\n",
       "      <td>309.720001</td>\n",
       "      <td>-247.779999</td>\n",
       "      <td>South Asia</td>\n",
       "      <td>Rajastán</td>\n",
       "      <td>CLOSED</td>\n",
       "      <td>NaN</td>\n",
       "      <td>1360</td>\n",
       "      <td>73</td>\n",
       "      <td>NaN</td>\n",
       "      <td>http://images.acmesports.sports/Smart+watch</td>\n",
       "      <td>Smart watch</td>\n",
       "      <td>327.75</td>\n",
       "      <td>0</td>\n",
       "      <td>1/17/2018 12:06</td>\n",
       "      <td>Standard Class</td>\n",
       "    </tr>\n",
       "    <tr>\n",
       "      <th>3</th>\n",
       "      <td>DEBIT</td>\n",
       "      <td>3</td>\n",
       "      <td>4</td>\n",
       "      <td>22.860001</td>\n",
       "      <td>304.809998</td>\n",
       "      <td>Advance shipping</td>\n",
       "      <td>0</td>\n",
       "      <td>73</td>\n",
       "      <td>Sporting Goods</td>\n",
       "      <td>Los Angeles</td>\n",
       "      <td>EE. UU.</td>\n",
       "      <td>XXXXXXXXX</td>\n",
       "      <td>Tana</td>\n",
       "      <td>19490</td>\n",
       "      <td>Tate</td>\n",
       "      <td>XXXXXXXXX</td>\n",
       "      <td>Home Office</td>\n",
       "      <td>CA</td>\n",
       "      <td>3200 Amber Bend</td>\n",
       "      <td>90027.0</td>\n",
       "      <td>2</td>\n",
       "      <td>Fitness</td>\n",
       "      <td>34.125946</td>\n",
       "      <td>-118.291016</td>\n",
       "      <td>Pacific Asia</td>\n",
       "      <td>Townsville</td>\n",
       "      <td>Australia</td>\n",
       "      <td>19490</td>\n",
       "      <td>1/13/2018 11:45</td>\n",
       "      <td>75937</td>\n",
       "      <td>1360</td>\n",
       "      <td>22.940001</td>\n",
       "      <td>0.07</td>\n",
       "      <td>179252</td>\n",
       "      <td>327.75</td>\n",
       "      <td>0.08</td>\n",
       "      <td>1</td>\n",
       "      <td>327.75</td>\n",
       "      <td>304.809998</td>\n",
       "      <td>22.860001</td>\n",
       "      <td>Oceania</td>\n",
       "      <td>Queensland</td>\n",
       "      <td>COMPLETE</td>\n",
       "      <td>NaN</td>\n",
       "      <td>1360</td>\n",
       "      <td>73</td>\n",
       "      <td>NaN</td>\n",
       "      <td>http://images.acmesports.sports/Smart+watch</td>\n",
       "      <td>Smart watch</td>\n",
       "      <td>327.75</td>\n",
       "      <td>0</td>\n",
       "      <td>1/16/2018 11:45</td>\n",
       "      <td>Standard Class</td>\n",
       "    </tr>\n",
       "    <tr>\n",
       "      <th>4</th>\n",
       "      <td>PAYMENT</td>\n",
       "      <td>2</td>\n",
       "      <td>4</td>\n",
       "      <td>134.210007</td>\n",
       "      <td>298.250000</td>\n",
       "      <td>Advance shipping</td>\n",
       "      <td>0</td>\n",
       "      <td>73</td>\n",
       "      <td>Sporting Goods</td>\n",
       "      <td>Caguas</td>\n",
       "      <td>Puerto Rico</td>\n",
       "      <td>XXXXXXXXX</td>\n",
       "      <td>Orli</td>\n",
       "      <td>19489</td>\n",
       "      <td>Hendricks</td>\n",
       "      <td>XXXXXXXXX</td>\n",
       "      <td>Corporate</td>\n",
       "      <td>PR</td>\n",
       "      <td>8671 Iron Anchor Corners</td>\n",
       "      <td>725.0</td>\n",
       "      <td>2</td>\n",
       "      <td>Fitness</td>\n",
       "      <td>18.253769</td>\n",
       "      <td>-66.037048</td>\n",
       "      <td>Pacific Asia</td>\n",
       "      <td>Townsville</td>\n",
       "      <td>Australia</td>\n",
       "      <td>19489</td>\n",
       "      <td>1/13/2018 11:24</td>\n",
       "      <td>75936</td>\n",
       "      <td>1360</td>\n",
       "      <td>29.500000</td>\n",
       "      <td>0.09</td>\n",
       "      <td>179251</td>\n",
       "      <td>327.75</td>\n",
       "      <td>0.45</td>\n",
       "      <td>1</td>\n",
       "      <td>327.75</td>\n",
       "      <td>298.250000</td>\n",
       "      <td>134.210007</td>\n",
       "      <td>Oceania</td>\n",
       "      <td>Queensland</td>\n",
       "      <td>PENDING_PAYMENT</td>\n",
       "      <td>NaN</td>\n",
       "      <td>1360</td>\n",
       "      <td>73</td>\n",
       "      <td>NaN</td>\n",
       "      <td>http://images.acmesports.sports/Smart+watch</td>\n",
       "      <td>Smart watch</td>\n",
       "      <td>327.75</td>\n",
       "      <td>0</td>\n",
       "      <td>1/15/2018 11:24</td>\n",
       "      <td>Standard Class</td>\n",
       "    </tr>\n",
       "  </tbody>\n",
       "</table>\n",
       "</div>"
      ],
      "text/plain": [
       "       Type  Days for shipping (real)  Days for shipment (scheduled)  \\\n",
       "0     DEBIT                         3                              4   \n",
       "1  TRANSFER                         5                              4   \n",
       "2      CASH                         4                              4   \n",
       "3     DEBIT                         3                              4   \n",
       "4   PAYMENT                         2                              4   \n",
       "\n",
       "   Benefit per order  Sales per customer   Delivery Status  \\\n",
       "0          91.250000          314.640015  Advance shipping   \n",
       "1        -249.089996          311.359985     Late delivery   \n",
       "2        -247.779999          309.720001  Shipping on time   \n",
       "3          22.860001          304.809998  Advance shipping   \n",
       "4         134.210007          298.250000  Advance shipping   \n",
       "\n",
       "   Late_delivery_risk  Category Id   Category Name Customer City  \\\n",
       "0                   0           73  Sporting Goods        Caguas   \n",
       "1                   1           73  Sporting Goods        Caguas   \n",
       "2                   0           73  Sporting Goods      San Jose   \n",
       "3                   0           73  Sporting Goods   Los Angeles   \n",
       "4                   0           73  Sporting Goods        Caguas   \n",
       "\n",
       "  Customer Country Customer Email Customer Fname  Customer Id Customer Lname  \\\n",
       "0      Puerto Rico      XXXXXXXXX          Cally        20755       Holloway   \n",
       "1      Puerto Rico      XXXXXXXXX          Irene        19492           Luna   \n",
       "2          EE. UU.      XXXXXXXXX        Gillian        19491      Maldonado   \n",
       "3          EE. UU.      XXXXXXXXX           Tana        19490           Tate   \n",
       "4      Puerto Rico      XXXXXXXXX           Orli        19489      Hendricks   \n",
       "\n",
       "  Customer Password Customer Segment Customer State           Customer Street  \\\n",
       "0         XXXXXXXXX         Consumer             PR  5365 Noble Nectar Island   \n",
       "1         XXXXXXXXX         Consumer             PR          2679 Rustic Loop   \n",
       "2         XXXXXXXXX         Consumer             CA      8510 Round Bear Gate   \n",
       "3         XXXXXXXXX      Home Office             CA           3200 Amber Bend   \n",
       "4         XXXXXXXXX        Corporate             PR  8671 Iron Anchor Corners   \n",
       "\n",
       "   Customer Zipcode  Department Id Department Name   Latitude   Longitude  \\\n",
       "0             725.0              2         Fitness  18.251453  -66.037056   \n",
       "1             725.0              2         Fitness  18.279451  -66.037064   \n",
       "2           95125.0              2         Fitness  37.292233 -121.881279   \n",
       "3           90027.0              2         Fitness  34.125946 -118.291016   \n",
       "4             725.0              2         Fitness  18.253769  -66.037048   \n",
       "\n",
       "         Market  Order City Order Country  Order Customer Id  \\\n",
       "0  Pacific Asia      Bekasi     Indonesia              20755   \n",
       "1  Pacific Asia     Bikaner         India              19492   \n",
       "2  Pacific Asia     Bikaner         India              19491   \n",
       "3  Pacific Asia  Townsville     Australia              19490   \n",
       "4  Pacific Asia  Townsville     Australia              19489   \n",
       "\n",
       "  order date (DateOrders)  Order Id  Order Item Cardprod Id  \\\n",
       "0         1/31/2018 22:56     77202                    1360   \n",
       "1         1/13/2018 12:27     75939                    1360   \n",
       "2         1/13/2018 12:06     75938                    1360   \n",
       "3         1/13/2018 11:45     75937                    1360   \n",
       "4         1/13/2018 11:24     75936                    1360   \n",
       "\n",
       "   Order Item Discount  Order Item Discount Rate  Order Item Id  \\\n",
       "0            13.110000                      0.04         180517   \n",
       "1            16.389999                      0.05         179254   \n",
       "2            18.030001                      0.06         179253   \n",
       "3            22.940001                      0.07         179252   \n",
       "4            29.500000                      0.09         179251   \n",
       "\n",
       "   Order Item Product Price  Order Item Profit Ratio  Order Item Quantity  \\\n",
       "0                    327.75                     0.29                    1   \n",
       "1                    327.75                    -0.80                    1   \n",
       "2                    327.75                    -0.80                    1   \n",
       "3                    327.75                     0.08                    1   \n",
       "4                    327.75                     0.45                    1   \n",
       "\n",
       "    Sales  Order Item Total  Order Profit Per Order    Order Region  \\\n",
       "0  327.75        314.640015               91.250000  Southeast Asia   \n",
       "1  327.75        311.359985             -249.089996      South Asia   \n",
       "2  327.75        309.720001             -247.779999      South Asia   \n",
       "3  327.75        304.809998               22.860001         Oceania   \n",
       "4  327.75        298.250000              134.210007         Oceania   \n",
       "\n",
       "       Order State     Order Status  Order Zipcode  Product Card Id  \\\n",
       "0  Java Occidental         COMPLETE            NaN             1360   \n",
       "1         Rajastán          PENDING            NaN             1360   \n",
       "2         Rajastán           CLOSED            NaN             1360   \n",
       "3       Queensland         COMPLETE            NaN             1360   \n",
       "4       Queensland  PENDING_PAYMENT            NaN             1360   \n",
       "\n",
       "   Product Category Id  Product Description  \\\n",
       "0                   73                  NaN   \n",
       "1                   73                  NaN   \n",
       "2                   73                  NaN   \n",
       "3                   73                  NaN   \n",
       "4                   73                  NaN   \n",
       "\n",
       "                                  Product Image  Product Name  Product Price  \\\n",
       "0  http://images.acmesports.sports/Smart+watch   Smart watch          327.75   \n",
       "1  http://images.acmesports.sports/Smart+watch   Smart watch          327.75   \n",
       "2  http://images.acmesports.sports/Smart+watch   Smart watch          327.75   \n",
       "3  http://images.acmesports.sports/Smart+watch   Smart watch          327.75   \n",
       "4  http://images.acmesports.sports/Smart+watch   Smart watch          327.75   \n",
       "\n",
       "   Product Status shipping date (DateOrders)   Shipping Mode  \n",
       "0               0             2/3/2018 22:56  Standard Class  \n",
       "1               0            1/18/2018 12:27  Standard Class  \n",
       "2               0            1/17/2018 12:06  Standard Class  \n",
       "3               0            1/16/2018 11:45  Standard Class  \n",
       "4               0            1/15/2018 11:24  Standard Class  "
      ]
     },
     "execution_count": 35,
     "metadata": {},
     "output_type": "execute_result"
    }
   ],
   "source": [
    "data = pd.read_csv('../Supply chain Data Analysis/DataCoSupplyChainDataset.csv',header=0,encoding='unicode_escape')#header=0是什么意思\n",
    "pd.set_option('display.max_columns',None)#None是什么意思\n",
    "data.head()"
   ]
  },
  {
   "cell_type": "markdown",
   "id": "02244e7b",
   "metadata": {},
   "source": [
    "检查数据：\n",
    "显示的是数字，但是是object里的str类型（共六个）\n",
    "product price,product status,Order Customer  Id,Order Profit Per Order，Product Category Id\n"
   ]
  },
  {
   "cell_type": "markdown",
   "id": "b8708747",
   "metadata": {},
   "source": [
    "# 3-Exploratory data analysis [EDA]"
   ]
  },
  {
   "cell_type": "code",
   "execution_count": 36,
   "id": "f9c7e097",
   "metadata": {
    "ExecuteTime": {
     "end_time": "2022-06-11T07:07:39.442059Z",
     "start_time": "2022-06-11T07:07:39.344068Z"
    }
   },
   "outputs": [
    {
     "name": "stdout",
     "output_type": "stream",
     "text": [
      "1) Number of columns are :  53\n",
      "2) Number of rows are :  180519\n",
      "3) Total number of data-points : 9567507\n",
      "4) Count of Numerical Features : 29\n",
      "5) Count of Categorical Features : 24\n"
     ]
    }
   ],
   "source": [
    "def data_info(data):\n",
    "    print('1) Number of columns are : ',data.shape[1])\n",
    "    print('2) Number of rows are : ',data.shape[0])\n",
    "    print('3) Total number of data-points :',data.size)\n",
    "    #dtypes不是object类型的就是数字类型\n",
    "    numerical_features = [f for f in data.columns if data[f].dtypes!='O']\n",
    "    print('4) Count of Numerical Features :',len(numerical_features))\n",
    "    #print(data[numerical_features].columns)\n",
    "    cat_features = [c for c in data.columns if data[c].dtypes=='O']\n",
    "    #print(data[cat_features].columns)\n",
    "    print('5) Count of Categorical Features :',len(cat_features))\n",
    "data_info(data)\n",
    "\n",
    "features=data.drop(columns=['Late_delivery_risk'])\n",
    "target=data['Late_delivery_risk']"
   ]
  },
  {
   "cell_type": "markdown",
   "id": "477f92cf",
   "metadata": {},
   "source": [
    "# 4-Missing Value Identification"
   ]
  },
  {
   "cell_type": "code",
   "execution_count": 37,
   "id": "a40f45eb",
   "metadata": {
    "ExecuteTime": {
     "end_time": "2022-06-11T07:07:53.315732Z",
     "start_time": "2022-06-11T07:07:52.576075Z"
    }
   },
   "outputs": [
    {
     "name": "stdout",
     "output_type": "stream",
     "text": [
      "Percentage of Total Missing Values is  3.51 %\n",
      "Missing Value Estimation :\n",
      "The features Customer Lname has 8 missing values\n",
      "The features Customer Zipcode has 3 missing values\n",
      "The features Order Zipcode has 155679 missing values\n",
      "The features Product Description has 180519 missing values\n"
     ]
    }
   ],
   "source": [
    "def features_with_missing_values(data):\n",
    "    #pd.isnull()和pd.isna()是一样的。在numpy里是np.isnan()都是表示缺失值\n",
    "    x = data.isnull().sum().sum()/data.size*100\n",
    "    print('Percentage of Total Missing Values is ' ,round(x,2) ,'%')\n",
    "    print('Missing Value Estimation :')\n",
    "    for i in data.columns:\n",
    "        if data[i].isna().sum()>0:\n",
    "            print('The features', i , 'has '+ str(data[i].isna().sum()) + ' missing values')\n",
    "features_with_missing_values(data)\n",
    "            \n",
    "    "
   ]
  },
  {
   "cell_type": "code",
   "execution_count": 38,
   "id": "8af93d32",
   "metadata": {
    "ExecuteTime": {
     "end_time": "2022-06-11T07:09:00.270694Z",
     "start_time": "2022-06-11T07:09:00.190759Z"
    }
   },
   "outputs": [],
   "source": [
    "#delete features which have too many missing values\n",
    "features = features.drop(columns=['Product Description','Order Zipcode'])\n"
   ]
  },
  {
   "cell_type": "code",
   "execution_count": 39,
   "id": "82748cfc",
   "metadata": {
    "ExecuteTime": {
     "end_time": "2022-06-11T07:09:08.372655Z",
     "start_time": "2022-06-11T07:09:08.289270Z"
    }
   },
   "outputs": [],
   "source": [
    " #having directly related to the target:'Delivery Status','Days for shipping (real)','Days for shipment (scheduled)'\n",
    "features = features.drop(columns=['Delivery Status','Days for shipping (real)','Days for shipment (scheduled)'])"
   ]
  },
  {
   "cell_type": "code",
   "execution_count": 40,
   "id": "05f907c1",
   "metadata": {
    "ExecuteTime": {
     "end_time": "2022-06-11T07:09:16.596929Z",
     "start_time": "2022-06-11T07:09:16.032189Z"
    }
   },
   "outputs": [
    {
     "data": {
      "text/plain": [
       "Type                          0\n",
       "Benefit per order             0\n",
       "Sales per customer            0\n",
       "Category Id                   0\n",
       "Category Name                 0\n",
       "Customer City                 0\n",
       "Customer Country              0\n",
       "Customer Email                0\n",
       "Customer Fname                0\n",
       "Customer Id                   0\n",
       "Customer Lname                8\n",
       "Customer Password             0\n",
       "Customer Segment              0\n",
       "Customer State                0\n",
       "Customer Street               0\n",
       "Customer Zipcode              3\n",
       "Department Id                 0\n",
       "Department Name               0\n",
       "Latitude                      0\n",
       "Longitude                     0\n",
       "Market                        0\n",
       "Order City                    0\n",
       "Order Country                 0\n",
       "Order Customer Id             0\n",
       "order date (DateOrders)       0\n",
       "Order Id                      0\n",
       "Order Item Cardprod Id        0\n",
       "Order Item Discount           0\n",
       "Order Item Discount Rate      0\n",
       "Order Item Id                 0\n",
       "Order Item Product Price      0\n",
       "Order Item Profit Ratio       0\n",
       "Order Item Quantity           0\n",
       "Sales                         0\n",
       "Order Item Total              0\n",
       "Order Profit Per Order        0\n",
       "Order Region                  0\n",
       "Order State                   0\n",
       "Order Status                  0\n",
       "Product Card Id               0\n",
       "Product Category Id           0\n",
       "Product Image                 0\n",
       "Product Name                  0\n",
       "Product Price                 0\n",
       "Product Status                0\n",
       "shipping date (DateOrders)    0\n",
       "Shipping Mode                 0\n",
       "dtype: int64"
      ]
     },
     "execution_count": 40,
     "metadata": {},
     "output_type": "execute_result"
    }
   ],
   "source": [
    "features.isnull().sum()"
   ]
  },
  {
   "cell_type": "code",
   "execution_count": 41,
   "id": "7105678c",
   "metadata": {
    "ExecuteTime": {
     "end_time": "2022-06-11T07:10:22.077338Z",
     "start_time": "2022-06-11T07:10:21.951244Z"
    }
   },
   "outputs": [],
   "source": [
    "#一些我们预测时不会知道的值\n",
    "features = features.drop(columns=['Order Status'])\n",
    "#一些跟预测没关系的值\n",
    "features = features.drop(columns=['Customer Fname','Customer Lname','Customer Password','Product Image','Customer Email','Category Name'])"
   ]
  },
  {
   "cell_type": "code",
   "execution_count": 10,
   "id": "a2ab4d8e",
   "metadata": {
    "ExecuteTime": {
     "end_time": "2022-06-10T11:06:06.012490Z",
     "start_time": "2022-06-10T11:06:05.585635Z"
    }
   },
   "outputs": [
    {
     "name": "stdout",
     "output_type": "stream",
     "text": [
      "<class 'pandas.core.frame.DataFrame'>\n",
      "RangeIndex: 180519 entries, 0 to 180518\n",
      "Data columns (total 37 columns):\n",
      " #   Column                      Non-Null Count   Dtype  \n",
      "---  ------                      --------------   -----  \n",
      " 0   Type                        180519 non-null  object \n",
      " 1   Benefit per order           180519 non-null  float64\n",
      " 2   Sales per customer          180519 non-null  float64\n",
      " 3   Category Id                 180519 non-null  int64  \n",
      " 4   Customer City               180519 non-null  object \n",
      " 5   Customer Country            180519 non-null  object \n",
      " 6   Customer Id                 180519 non-null  int64  \n",
      " 7   Customer Segment            180519 non-null  object \n",
      " 8   Customer State              180519 non-null  object \n",
      " 9   Customer Street             180519 non-null  object \n",
      " 10  Customer Zipcode            180516 non-null  float64\n",
      " 11  Department Id               180519 non-null  int64  \n",
      " 12  Latitude                    180519 non-null  float64\n",
      " 13  Longitude                   180519 non-null  float64\n",
      " 14  Market                      180519 non-null  object \n",
      " 15  Order City                  180519 non-null  object \n",
      " 16  Order Country               180519 non-null  object \n",
      " 17  Order Customer Id           180519 non-null  object \n",
      " 18  order date (DateOrders)     180519 non-null  object \n",
      " 19  Order Id                    180519 non-null  int64  \n",
      " 20  Order Item Cardprod Id      180519 non-null  float64\n",
      " 21  Order Item Discount         180519 non-null  float64\n",
      " 22  Order Item Discount Rate    180519 non-null  float64\n",
      " 23  Order Item Id               180519 non-null  float64\n",
      " 24  Order Item Product Price    180519 non-null  float64\n",
      " 25  Order Item Profit Ratio     180519 non-null  float64\n",
      " 26  Order Item Quantity         180519 non-null  float64\n",
      " 27  Sales                       180519 non-null  float64\n",
      " 28  Order Item Total            180519 non-null  float64\n",
      " 29  Order Profit Per Order      180519 non-null  object \n",
      " 30  Product Card Id             177515 non-null  float64\n",
      " 31  Product Category Id         175938 non-null  object \n",
      " 32  Product Name                180519 non-null  object \n",
      " 33  Product Price               180519 non-null  object \n",
      " 34  Product Status              180519 non-null  object \n",
      " 35  shipping date (DateOrders)  177515 non-null  object \n",
      " 36  Shipping Mode               172934 non-null  object \n",
      "dtypes: float64(15), int64(4), object(18)\n",
      "memory usage: 51.0+ MB\n"
     ]
    }
   ],
   "source": [
    "features.info()"
   ]
  },
  {
   "cell_type": "code",
   "execution_count": 42,
   "id": "7c572a89",
   "metadata": {
    "ExecuteTime": {
     "end_time": "2022-06-11T07:11:31.142850Z",
     "start_time": "2022-06-11T07:11:29.841997Z"
    }
   },
   "outputs": [
    {
     "data": {
      "text/plain": [
       "(180519, 40)"
      ]
     },
     "execution_count": 42,
     "metadata": {},
     "output_type": "execute_result"
    }
   ],
   "source": [
    "from sklearn.preprocessing import LabelEncoder\n",
    "le=LabelEncoder()\n",
    "def Labelencoder_feature(x):\n",
    "    le=LabelEncoder()\n",
    "    x=le.fit_transform(x)\n",
    "    return x\n",
    "# 直接用为什么不行？\n",
    "# le=LabelEncoder()\n",
    "# features=le.fit_transform(features)\n",
    "\n",
    "# cat_features = [c for c in features.columns if features[c].dtypes=='O']\n",
    "# ##object 类型（cat_features里有很多是混合了int和str）,必须统一类型才能用Labelencoder\n",
    "# features[cat_features]=features[cat_features].astype(str)\n",
    "\n",
    "# numerical_features = [f for f in features.columns if features[f].dtypes!='O']\n",
    "# features=pd.concat([features[cat_features],features[numerical_features]],axis=1)\n",
    "\n",
    "features=features.apply(Labelencoder_feature)\n",
    "features.shape\n",
    "#features_with_missing_values(features)"
   ]
  },
  {
   "cell_type": "markdown",
   "id": "b33af31d",
   "metadata": {},
   "source": [
    "# 5-Feature engineering"
   ]
  },
  {
   "cell_type": "code",
   "execution_count": 43,
   "id": "40d3c5bc",
   "metadata": {
    "ExecuteTime": {
     "end_time": "2022-06-11T07:11:37.638650Z",
     "start_time": "2022-06-11T07:11:37.617705Z"
    }
   },
   "outputs": [
    {
     "data": {
      "text/html": [
       "<div>\n",
       "<style scoped>\n",
       "    .dataframe tbody tr th:only-of-type {\n",
       "        vertical-align: middle;\n",
       "    }\n",
       "\n",
       "    .dataframe tbody tr th {\n",
       "        vertical-align: top;\n",
       "    }\n",
       "\n",
       "    .dataframe thead th {\n",
       "        text-align: right;\n",
       "    }\n",
       "</style>\n",
       "<table border=\"1\" class=\"dataframe\">\n",
       "  <thead>\n",
       "    <tr style=\"text-align: right;\">\n",
       "      <th></th>\n",
       "      <th>Type</th>\n",
       "      <th>Benefit per order</th>\n",
       "      <th>Sales per customer</th>\n",
       "      <th>Category Id</th>\n",
       "      <th>Customer City</th>\n",
       "      <th>Customer Country</th>\n",
       "      <th>Customer Id</th>\n",
       "      <th>Customer Segment</th>\n",
       "      <th>Customer State</th>\n",
       "      <th>Customer Street</th>\n",
       "      <th>Customer Zipcode</th>\n",
       "      <th>Department Id</th>\n",
       "      <th>Department Name</th>\n",
       "      <th>Latitude</th>\n",
       "      <th>Longitude</th>\n",
       "      <th>Market</th>\n",
       "      <th>Order City</th>\n",
       "      <th>Order Country</th>\n",
       "      <th>Order Customer Id</th>\n",
       "      <th>order date (DateOrders)</th>\n",
       "      <th>Order Id</th>\n",
       "      <th>Order Item Cardprod Id</th>\n",
       "      <th>Order Item Discount</th>\n",
       "      <th>Order Item Discount Rate</th>\n",
       "      <th>Order Item Id</th>\n",
       "      <th>Order Item Product Price</th>\n",
       "      <th>Order Item Profit Ratio</th>\n",
       "      <th>Order Item Quantity</th>\n",
       "      <th>Sales</th>\n",
       "      <th>Order Item Total</th>\n",
       "      <th>Order Profit Per Order</th>\n",
       "      <th>Order Region</th>\n",
       "      <th>Order State</th>\n",
       "      <th>Product Card Id</th>\n",
       "      <th>Product Category Id</th>\n",
       "      <th>Product Name</th>\n",
       "      <th>Product Price</th>\n",
       "      <th>Product Status</th>\n",
       "      <th>shipping date (DateOrders)</th>\n",
       "      <th>Shipping Mode</th>\n",
       "    </tr>\n",
       "  </thead>\n",
       "  <tbody>\n",
       "    <tr>\n",
       "      <th>0</th>\n",
       "      <td>1</td>\n",
       "      <td>18934</td>\n",
       "      <td>2568</td>\n",
       "      <td>47</td>\n",
       "      <td>66</td>\n",
       "      <td>1</td>\n",
       "      <td>20649</td>\n",
       "      <td>0</td>\n",
       "      <td>36</td>\n",
       "      <td>3683</td>\n",
       "      <td>7</td>\n",
       "      <td>0</td>\n",
       "      <td>4</td>\n",
       "      <td>3624</td>\n",
       "      <td>4420</td>\n",
       "      <td>3</td>\n",
       "      <td>331</td>\n",
       "      <td>70</td>\n",
       "      <td>20649</td>\n",
       "      <td>5961</td>\n",
       "      <td>65749</td>\n",
       "      <td>114</td>\n",
       "      <td>426</td>\n",
       "      <td>4</td>\n",
       "      <td>180516</td>\n",
       "      <td>62</td>\n",
       "      <td>140</td>\n",
       "      <td>0</td>\n",
       "      <td>166</td>\n",
       "      <td>2568</td>\n",
       "      <td>18934</td>\n",
       "      <td>15</td>\n",
       "      <td>475</td>\n",
       "      <td>114</td>\n",
       "      <td>47</td>\n",
       "      <td>78</td>\n",
       "      <td>62</td>\n",
       "      <td>0</td>\n",
       "      <td>27149</td>\n",
       "      <td>3</td>\n",
       "    </tr>\n",
       "    <tr>\n",
       "      <th>1</th>\n",
       "      <td>3</td>\n",
       "      <td>2272</td>\n",
       "      <td>2559</td>\n",
       "      <td>47</td>\n",
       "      <td>66</td>\n",
       "      <td>1</td>\n",
       "      <td>19386</td>\n",
       "      <td>0</td>\n",
       "      <td>36</td>\n",
       "      <td>1400</td>\n",
       "      <td>7</td>\n",
       "      <td>0</td>\n",
       "      <td>4</td>\n",
       "      <td>5522</td>\n",
       "      <td>4419</td>\n",
       "      <td>3</td>\n",
       "      <td>391</td>\n",
       "      <td>69</td>\n",
       "      <td>19386</td>\n",
       "      <td>1147</td>\n",
       "      <td>64486</td>\n",
       "      <td>114</td>\n",
       "      <td>498</td>\n",
       "      <td>5</td>\n",
       "      <td>179253</td>\n",
       "      <td>62</td>\n",
       "      <td>44</td>\n",
       "      <td>0</td>\n",
       "      <td>166</td>\n",
       "      <td>2559</td>\n",
       "      <td>2272</td>\n",
       "      <td>13</td>\n",
       "      <td>841</td>\n",
       "      <td>114</td>\n",
       "      <td>47</td>\n",
       "      <td>78</td>\n",
       "      <td>62</td>\n",
       "      <td>0</td>\n",
       "      <td>2209</td>\n",
       "      <td>3</td>\n",
       "    </tr>\n",
       "    <tr>\n",
       "      <th>2</th>\n",
       "      <td>0</td>\n",
       "      <td>2293</td>\n",
       "      <td>2555</td>\n",
       "      <td>47</td>\n",
       "      <td>452</td>\n",
       "      <td>0</td>\n",
       "      <td>19385</td>\n",
       "      <td>0</td>\n",
       "      <td>5</td>\n",
       "      <td>6217</td>\n",
       "      <td>941</td>\n",
       "      <td>0</td>\n",
       "      <td>4</td>\n",
       "      <td>9146</td>\n",
       "      <td>232</td>\n",
       "      <td>3</td>\n",
       "      <td>391</td>\n",
       "      <td>69</td>\n",
       "      <td>19385</td>\n",
       "      <td>1146</td>\n",
       "      <td>64485</td>\n",
       "      <td>114</td>\n",
       "      <td>529</td>\n",
       "      <td>6</td>\n",
       "      <td>179252</td>\n",
       "      <td>62</td>\n",
       "      <td>44</td>\n",
       "      <td>0</td>\n",
       "      <td>166</td>\n",
       "      <td>2555</td>\n",
       "      <td>2293</td>\n",
       "      <td>13</td>\n",
       "      <td>841</td>\n",
       "      <td>114</td>\n",
       "      <td>47</td>\n",
       "      <td>78</td>\n",
       "      <td>62</td>\n",
       "      <td>0</td>\n",
       "      <td>1980</td>\n",
       "      <td>3</td>\n",
       "    </tr>\n",
       "    <tr>\n",
       "      <th>3</th>\n",
       "      <td>1</td>\n",
       "      <td>13638</td>\n",
       "      <td>2546</td>\n",
       "      <td>47</td>\n",
       "      <td>285</td>\n",
       "      <td>0</td>\n",
       "      <td>19384</td>\n",
       "      <td>2</td>\n",
       "      <td>5</td>\n",
       "      <td>1803</td>\n",
       "      <td>720</td>\n",
       "      <td>0</td>\n",
       "      <td>4</td>\n",
       "      <td>8467</td>\n",
       "      <td>663</td>\n",
       "      <td>3</td>\n",
       "      <td>3226</td>\n",
       "      <td>8</td>\n",
       "      <td>19384</td>\n",
       "      <td>1145</td>\n",
       "      <td>64484</td>\n",
       "      <td>114</td>\n",
       "      <td>600</td>\n",
       "      <td>7</td>\n",
       "      <td>179251</td>\n",
       "      <td>62</td>\n",
       "      <td>119</td>\n",
       "      <td>0</td>\n",
       "      <td>166</td>\n",
       "      <td>2546</td>\n",
       "      <td>13638</td>\n",
       "      <td>11</td>\n",
       "      <td>835</td>\n",
       "      <td>114</td>\n",
       "      <td>47</td>\n",
       "      <td>78</td>\n",
       "      <td>62</td>\n",
       "      <td>0</td>\n",
       "      <td>1752</td>\n",
       "      <td>3</td>\n",
       "    </tr>\n",
       "    <tr>\n",
       "      <th>4</th>\n",
       "      <td>2</td>\n",
       "      <td>20599</td>\n",
       "      <td>2526</td>\n",
       "      <td>47</td>\n",
       "      <td>66</td>\n",
       "      <td>1</td>\n",
       "      <td>19383</td>\n",
       "      <td>1</td>\n",
       "      <td>36</td>\n",
       "      <td>6345</td>\n",
       "      <td>7</td>\n",
       "      <td>0</td>\n",
       "      <td>4</td>\n",
       "      <td>3783</td>\n",
       "      <td>4421</td>\n",
       "      <td>3</td>\n",
       "      <td>3226</td>\n",
       "      <td>8</td>\n",
       "      <td>19383</td>\n",
       "      <td>1144</td>\n",
       "      <td>64483</td>\n",
       "      <td>114</td>\n",
       "      <td>682</td>\n",
       "      <td>8</td>\n",
       "      <td>179250</td>\n",
       "      <td>62</td>\n",
       "      <td>156</td>\n",
       "      <td>0</td>\n",
       "      <td>166</td>\n",
       "      <td>2526</td>\n",
       "      <td>20599</td>\n",
       "      <td>11</td>\n",
       "      <td>835</td>\n",
       "      <td>114</td>\n",
       "      <td>47</td>\n",
       "      <td>78</td>\n",
       "      <td>62</td>\n",
       "      <td>0</td>\n",
       "      <td>1528</td>\n",
       "      <td>3</td>\n",
       "    </tr>\n",
       "  </tbody>\n",
       "</table>\n",
       "</div>"
      ],
      "text/plain": [
       "   Type  Benefit per order  Sales per customer  Category Id  Customer City  \\\n",
       "0     1              18934                2568           47             66   \n",
       "1     3               2272                2559           47             66   \n",
       "2     0               2293                2555           47            452   \n",
       "3     1              13638                2546           47            285   \n",
       "4     2              20599                2526           47             66   \n",
       "\n",
       "   Customer Country  Customer Id  Customer Segment  Customer State  \\\n",
       "0                 1        20649                 0              36   \n",
       "1                 1        19386                 0              36   \n",
       "2                 0        19385                 0               5   \n",
       "3                 0        19384                 2               5   \n",
       "4                 1        19383                 1              36   \n",
       "\n",
       "   Customer Street  Customer Zipcode  Department Id  Department Name  \\\n",
       "0             3683                 7              0                4   \n",
       "1             1400                 7              0                4   \n",
       "2             6217               941              0                4   \n",
       "3             1803               720              0                4   \n",
       "4             6345                 7              0                4   \n",
       "\n",
       "   Latitude  Longitude  Market  Order City  Order Country  Order Customer Id  \\\n",
       "0      3624       4420       3         331             70              20649   \n",
       "1      5522       4419       3         391             69              19386   \n",
       "2      9146        232       3         391             69              19385   \n",
       "3      8467        663       3        3226              8              19384   \n",
       "4      3783       4421       3        3226              8              19383   \n",
       "\n",
       "   order date (DateOrders)  Order Id  Order Item Cardprod Id  \\\n",
       "0                     5961     65749                     114   \n",
       "1                     1147     64486                     114   \n",
       "2                     1146     64485                     114   \n",
       "3                     1145     64484                     114   \n",
       "4                     1144     64483                     114   \n",
       "\n",
       "   Order Item Discount  Order Item Discount Rate  Order Item Id  \\\n",
       "0                  426                         4         180516   \n",
       "1                  498                         5         179253   \n",
       "2                  529                         6         179252   \n",
       "3                  600                         7         179251   \n",
       "4                  682                         8         179250   \n",
       "\n",
       "   Order Item Product Price  Order Item Profit Ratio  Order Item Quantity  \\\n",
       "0                        62                      140                    0   \n",
       "1                        62                       44                    0   \n",
       "2                        62                       44                    0   \n",
       "3                        62                      119                    0   \n",
       "4                        62                      156                    0   \n",
       "\n",
       "   Sales  Order Item Total  Order Profit Per Order  Order Region  Order State  \\\n",
       "0    166              2568                   18934            15          475   \n",
       "1    166              2559                    2272            13          841   \n",
       "2    166              2555                    2293            13          841   \n",
       "3    166              2546                   13638            11          835   \n",
       "4    166              2526                   20599            11          835   \n",
       "\n",
       "   Product Card Id  Product Category Id  Product Name  Product Price  \\\n",
       "0              114                   47            78             62   \n",
       "1              114                   47            78             62   \n",
       "2              114                   47            78             62   \n",
       "3              114                   47            78             62   \n",
       "4              114                   47            78             62   \n",
       "\n",
       "   Product Status  shipping date (DateOrders)  Shipping Mode  \n",
       "0               0                       27149              3  \n",
       "1               0                        2209              3  \n",
       "2               0                        1980              3  \n",
       "3               0                        1752              3  \n",
       "4               0                        1528              3  "
      ]
     },
     "execution_count": 43,
     "metadata": {},
     "output_type": "execute_result"
    }
   ],
   "source": [
    "features.head()"
   ]
  },
  {
   "cell_type": "code",
   "execution_count": 44,
   "id": "5f475551",
   "metadata": {
    "ExecuteTime": {
     "end_time": "2022-06-11T07:11:53.388288Z",
     "start_time": "2022-06-11T07:11:53.273939Z"
    }
   },
   "outputs": [
    {
     "data": {
      "text/html": [
       "<div>\n",
       "<style scoped>\n",
       "    .dataframe tbody tr th:only-of-type {\n",
       "        vertical-align: middle;\n",
       "    }\n",
       "\n",
       "    .dataframe tbody tr th {\n",
       "        vertical-align: top;\n",
       "    }\n",
       "\n",
       "    .dataframe thead th {\n",
       "        text-align: right;\n",
       "    }\n",
       "</style>\n",
       "<table border=\"1\" class=\"dataframe\">\n",
       "  <thead>\n",
       "    <tr style=\"text-align: right;\">\n",
       "      <th></th>\n",
       "      <th>Variable</th>\n",
       "      <th>F_Value</th>\n",
       "      <th>P_Value</th>\n",
       "    </tr>\n",
       "  </thead>\n",
       "  <tbody>\n",
       "    <tr>\n",
       "      <th>0</th>\n",
       "      <td>Type</td>\n",
       "      <td>685.999651</td>\n",
       "      <td>0.000</td>\n",
       "    </tr>\n",
       "    <tr>\n",
       "      <th>39</th>\n",
       "      <td>Shipping Mode</td>\n",
       "      <td>34666.398337</td>\n",
       "      <td>0.000</td>\n",
       "    </tr>\n",
       "    <tr>\n",
       "      <th>31</th>\n",
       "      <td>Order Region</td>\n",
       "      <td>6.848744</td>\n",
       "      <td>0.009</td>\n",
       "    </tr>\n",
       "    <tr>\n",
       "      <th>4</th>\n",
       "      <td>Customer City</td>\n",
       "      <td>4.662629</td>\n",
       "      <td>0.031</td>\n",
       "    </tr>\n",
       "    <tr>\n",
       "      <th>38</th>\n",
       "      <td>shipping date (DateOrders)</td>\n",
       "      <td>3.556568</td>\n",
       "      <td>0.059</td>\n",
       "    </tr>\n",
       "  </tbody>\n",
       "</table>\n",
       "</div>"
      ],
      "text/plain": [
       "                      Variable       F_Value  P_Value\n",
       "0                         Type    685.999651    0.000\n",
       "39               Shipping Mode  34666.398337    0.000\n",
       "31                Order Region      6.848744    0.009\n",
       "4                Customer City      4.662629    0.031\n",
       "38  shipping date (DateOrders)      3.556568    0.059"
      ]
     },
     "execution_count": 44,
     "metadata": {},
     "output_type": "execute_result"
    }
   ],
   "source": [
    "#Feature Selection\n",
    "\n",
    "# Feature Selection based on importance\n",
    "from sklearn.feature_selection import f_regression\n",
    "F_values, p_values  = f_regression(features, target)\n",
    "\n",
    "import itertools\n",
    "f_reg_results = [(i, v, z) for i, v, z in itertools.zip_longest(features.columns, F_values,  ['%.3f' % p for p in p_values])]\n",
    "f_reg_results=pd.DataFrame(f_reg_results, columns=['Variable','F_Value', 'P_Value'])\n",
    "\n",
    "f_reg_results=pd.DataFrame(f_reg_results, columns=['Variable','F_Value', 'P_Value'])\n",
    "f_reg_results = f_reg_results.sort_values(by=['P_Value'])\n",
    "f_reg_results.P_Value= f_reg_results.P_Value.astype(float)\n",
    "f_reg_results=f_reg_results[f_reg_results.P_Value<0.06]\n",
    "f_reg_results"
   ]
  },
  {
   "cell_type": "code",
   "execution_count": 45,
   "id": "9aff4b31",
   "metadata": {
    "ExecuteTime": {
     "end_time": "2022-06-11T07:12:24.341735Z",
     "start_time": "2022-06-11T07:12:24.309821Z"
    }
   },
   "outputs": [],
   "source": [
    "final_results=f_reg_results.Variable.values\n",
    "final_features=features[final_results]\n",
    "final_data=pd.concat([final_features, target], axis=1)\n",
    "\n"
   ]
  },
  {
   "cell_type": "code",
   "execution_count": 46,
   "id": "7c353ed1",
   "metadata": {
    "ExecuteTime": {
     "end_time": "2022-06-11T07:12:31.449756Z",
     "start_time": "2022-06-11T07:12:30.995783Z"
    }
   },
   "outputs": [
    {
     "data": {
      "text/plain": [
       "<AxesSubplot:>"
      ]
     },
     "execution_count": 46,
     "metadata": {},
     "output_type": "execute_result"
    },
    {
     "data": {
      "image/png": "[encoded data removed]",
      "text/plain": [
       "<Figure size 2160x1440 with 2 Axes>"
      ]
     },
     "metadata": {
      "needs_background": "light"
     },
     "output_type": "display_data"
    }
   ],
   "source": [
    "#data 里面包括了target\n",
    "plt.figure(figsize=(30,20))#图里不是全部的列\n",
    "#corr()只计算数字类型的列与列的关系,也就是只用numerical features（非object类型）\n",
    "sns.heatmap(final_data.corr(),annot=True,fmt='.2f',cmap='RdYlGn')\n",
    "\n"
   ]
  },
  {
   "cell_type": "markdown",
   "id": "5eec6e5f",
   "metadata": {},
   "source": [
    "# 6-Model Building"
   ]
  },
  {
   "cell_type": "code",
   "execution_count": 47,
   "id": "ebe6a6e5",
   "metadata": {
    "ExecuteTime": {
     "end_time": "2022-06-11T07:12:44.387895Z",
     "start_time": "2022-06-11T07:12:44.333313Z"
    }
   },
   "outputs": [],
   "source": [
    "from sklearn.pipeline import make_pipeline\n",
    "from sklearn.pipeline import Pipeline\n",
    "from sklearn.preprocessing import StandardScaler\n",
    "from sklearn.model_selection import cross_val_score, cross_validate\n",
    "from sklearn.model_selection import GridSearchCV, RandomizedSearchCV\n",
    "from sklearn.linear_model import LogisticRegression\n",
    "from sklearn.ensemble import RandomForestClassifier\n",
    "from sklearn.neighbors import KNeighborsClassifier\n",
    "from sklearn.naive_bayes import GaussianNB\n",
    "from sklearn.linear_model import SGDClassifier\n",
    "from sklearn.tree import DecisionTreeClassifier\n",
    "from sklearn.preprocessing import StandardScaler\n",
    "from xgboost import XGBClassifier\n",
    "from sklearn.metrics import *\n",
    "from sklearn import metrics\n",
    "from sklearn.metrics import classification_report\n",
    "from sklearn.model_selection import train_test_split\n",
    "X_train, X_test, y_train, y_test = train_test_split(final_features, target, test_size = 0.2, random_state = 42)"
   ]
  },
  {
   "cell_type": "code",
   "execution_count": 48,
   "id": "6a1d720d",
   "metadata": {
    "ExecuteTime": {
     "end_time": "2022-06-11T07:12:48.320217Z",
     "start_time": "2022-06-11T07:12:48.292259Z"
    }
   },
   "outputs": [],
   "source": [
    "lgr_pipline  = Pipeline([(\"scaler\", StandardScaler()), (\"LogisticRegression\", LogisticRegression())])\n",
    "rfc_pipline = Pipeline([(\"scaler\", StandardScaler()), (\"RandomForestClassifier\", RandomForestClassifier())])\n",
    "knn_pipline = Pipeline([(\"scaler\", StandardScaler()), (\"KNeighborsClassifier\", KNeighborsClassifier())])\n",
    "gnb_pipline = Pipeline([(\"scaler\", StandardScaler()), (\"GaussianNB\", GaussianNB())])\n",
    "sgd_pipline = Pipeline([(\"scaler\", StandardScaler()), (\"SGDClassifier\", SGDClassifier())])\n",
    "dt_pipline = Pipeline([(\"scaler\", StandardScaler()), (\"DecisionTreeClassifier\", DecisionTreeClassifier())])"
   ]
  },
  {
   "cell_type": "code",
   "execution_count": 49,
   "id": "40c300b2",
   "metadata": {
    "ExecuteTime": {
     "end_time": "2022-06-11T07:12:52.284826Z",
     "start_time": "2022-06-11T07:12:52.256906Z"
    }
   },
   "outputs": [],
   "source": [
    "pip_dict ={0:'Logistic Regression' , 1:'RandomForestClassifier' , 2: 'KNeighborsClassifier' ,\n",
    "            3: 'GaussianNB', 4: 'SGDClassifier', 5: 'DecisionTreeClassifier' }\n",
    "pipelines=[lgr_pipline, rfc_pipline , knn_pipline, gnb_pipline  , sgd_pipline , dt_pipline ]"
   ]
  },
  {
   "cell_type": "code",
   "execution_count": 50,
   "id": "aa23fe8a",
   "metadata": {
    "ExecuteTime": {
     "end_time": "2022-06-11T07:16:56.489722Z",
     "start_time": "2022-06-11T07:12:56.563579Z"
    },
    "scrolled": true
   },
   "outputs": [
    {
     "name": "stdout",
     "output_type": "stream",
     "text": [
      "Logistic Regression :  0.6906918386309326\n",
      "RandomForestClassifier :  0.8930525582764535\n",
      "KNeighborsClassifier :  0.7422761862169995\n",
      "GaussianNB :  0.6718960851534189\n",
      "SGDClassifier :  0.6906918386309326\n",
      "DecisionTreeClassifier :  0.8857956709749782\n"
     ]
    }
   ],
   "source": [
    "scores_df = pd.DataFrame(columns = [\"Model\", \"CVScores\"])\n",
    "for i, pipe in enumerate(pipelines):\n",
    "    #用所有数据找最合适的模型，不仅仅是X_trian,y_train\n",
    "    score = cross_val_score(pipe, final_features, target, cv = 10)\n",
    "    print(pip_dict[i], \": \", score.mean())"
   ]
  },
  {
   "cell_type": "code",
   "execution_count": 51,
   "id": "5b1402ab",
   "metadata": {
    "ExecuteTime": {
     "end_time": "2022-06-11T07:18:10.041129Z",
     "start_time": "2022-06-11T07:18:10.027166Z"
    }
   },
   "outputs": [],
   "source": [
    "grid_params = [\n",
    "    {\"classifier\": [RandomForestClassifier()],\n",
    "    \"classifier__n_estimators\": [50,100,150,200,250,300],\n",
    "    \"classifier__criterion\": [\"gini\", \"entropy\"],\n",
    "    \"classifier__max_features\": [\"auto\", \"sqrt\", \"log2\"],\n",
    "    },\n",
    "    \n",
    "    {\"classifier\": [KNeighborsClassifier()],\n",
    "     \"classifier__n_neighbors\": [2,3,4,5,6],\n",
    "     \"classifier__algorithm\": ['auto', 'ball_tree', 'kd_tree', 'brute'],\n",
    "     \"classifier__leaf_size\": [10,20,30,40,50],\n",
    "    \n",
    "    },\n",
    "    \n",
    "    {\"classifier\": [DecisionTreeClassifier()],\n",
    "    \"classifier__splitter\" :[\"best\", \"random\"],\n",
    "    \"classifier__criterion\": [\"gini\", \"entropy\"],\n",
    "    \"classifier__max_features\": [\"auto\", \"sqrt\", \"log2\"],\n",
    "    },\n",
    "    \n",
    "]"
   ]
  },
  {
   "cell_type": "code",
   "execution_count": 52,
   "id": "6d73ba05",
   "metadata": {
    "ExecuteTime": {
     "end_time": "2022-06-11T07:22:29.628617Z",
     "start_time": "2022-06-11T07:18:24.717908Z"
    }
   },
   "outputs": [
    {
     "name": "stdout",
     "output_type": "stream",
     "text": [
      "Fitting 8 folds for each of 10 candidates, totalling 80 fits\n"
     ]
    }
   ],
   "source": [
    "pipeline_new = Pipeline([(\"scaler\", StandardScaler()), (\"classifier\", RandomForestClassifier())])\n",
    "\n",
    "random_search = RandomizedSearchCV(estimator = pipeline_new, param_distributions = grid_params, scoring = 'neg_mean_absolute_error', n_jobs= -1, cv = 8, verbose = 10, random_state = 42)\n",
    "best_model = random_search.fit(X_train, y_train)"
   ]
  },
  {
   "cell_type": "markdown",
   "id": "ac98599a",
   "metadata": {},
   "source": [
    "# 7-Model Evaluation"
   ]
  },
  {
   "cell_type": "code",
   "execution_count": 53,
   "id": "ef8f1deb",
   "metadata": {
    "ExecuteTime": {
     "end_time": "2022-06-11T08:19:10.243504Z",
     "start_time": "2022-06-11T08:19:10.219569Z"
    }
   },
   "outputs": [
    {
     "data": {
      "text/plain": [
       "{'classifier__splitter': 'random',\n",
       " 'classifier__max_features': 'sqrt',\n",
       " 'classifier__criterion': 'gini',\n",
       " 'classifier': DecisionTreeClassifier(max_features='sqrt', splitter='random')}"
      ]
     },
     "execution_count": 53,
     "metadata": {},
     "output_type": "execute_result"
    }
   ],
   "source": [
    "best_model.best_params_"
   ]
  },
  {
   "cell_type": "code",
   "execution_count": 57,
   "id": "8793ee11",
   "metadata": {
    "ExecuteTime": {
     "end_time": "2022-06-11T08:23:53.654908Z",
     "start_time": "2022-06-11T08:23:27.613652Z"
    }
   },
   "outputs": [
    {
     "data": {
      "text/html": [
       "<div>\n",
       "<style scoped>\n",
       "    .dataframe tbody tr th:only-of-type {\n",
       "        vertical-align: middle;\n",
       "    }\n",
       "\n",
       "    .dataframe tbody tr th {\n",
       "        vertical-align: top;\n",
       "    }\n",
       "\n",
       "    .dataframe thead th {\n",
       "        text-align: right;\n",
       "    }\n",
       "</style>\n",
       "<table border=\"1\" class=\"dataframe\">\n",
       "  <thead>\n",
       "    <tr style=\"text-align: right;\">\n",
       "      <th></th>\n",
       "      <th>actual</th>\n",
       "      <th>predicted</th>\n",
       "    </tr>\n",
       "  </thead>\n",
       "  <tbody>\n",
       "    <tr>\n",
       "      <th>80120</th>\n",
       "      <td>1</td>\n",
       "      <td>1</td>\n",
       "    </tr>\n",
       "    <tr>\n",
       "      <th>19670</th>\n",
       "      <td>1</td>\n",
       "      <td>1</td>\n",
       "    </tr>\n",
       "    <tr>\n",
       "      <th>114887</th>\n",
       "      <td>0</td>\n",
       "      <td>0</td>\n",
       "    </tr>\n",
       "    <tr>\n",
       "      <th>120110</th>\n",
       "      <td>1</td>\n",
       "      <td>1</td>\n",
       "    </tr>\n",
       "    <tr>\n",
       "      <th>56658</th>\n",
       "      <td>0</td>\n",
       "      <td>0</td>\n",
       "    </tr>\n",
       "  </tbody>\n",
       "</table>\n",
       "</div>"
      ],
      "text/plain": [
       "        actual  predicted\n",
       "80120        1          1\n",
       "19670        1          1\n",
       "114887       0          0\n",
       "120110       1          1\n",
       "56658        0          0"
      ]
     },
     "execution_count": 57,
     "metadata": {},
     "output_type": "execute_result"
    }
   ],
   "source": [
    "pipeline_rfl = Pipeline([('scaler', StandardScaler()), \n",
    "                           ('RandomForestClassifier', RandomForestClassifier(criterion='gini',max_features= 'sqrt'))])\n",
    "model_rfl = pipeline_rfl.fit(X_train, y_train)\n",
    "rfl_train_predict = pd.DataFrame({'actual' : y_train,\n",
    "                                 'predicted' : model_rfl.predict(X_train)})\n",
    "rfl_test_predict = pd.DataFrame({'actual' : y_test,\n",
    "                                 'predicted' : model_rfl.predict(X_test)})\n",
    "rfl_test_predict.head()"
   ]
  },
  {
   "cell_type": "markdown",
   "id": "09b9a0d8",
   "metadata": {},
   "source": [
    "# 8-Predictive Analytics:Late_delivery_prediction"
   ]
  },
  {
   "cell_type": "code",
   "execution_count": 58,
   "id": "507d21e2",
   "metadata": {
    "ExecuteTime": {
     "end_time": "2022-06-11T08:24:22.448293Z",
     "start_time": "2022-06-11T08:24:22.354654Z"
    }
   },
   "outputs": [
    {
     "name": "stdout",
     "output_type": "stream",
     "text": [
      "Accuracy Score for test dataset :  0.9475127409705296\n",
      "Accuracy Score for train dataset :  0.9999584530692796\n",
      "ROC-AUC Score for train dataset :  0.9999580620305011\n",
      "ROC-AUC Score for validation dataset :  0.9471879334241757\n"
     ]
    }
   ],
   "source": [
    "print('Accuracy Score for test dataset : ' , metrics.accuracy_score(rfl_test_predict.actual, rfl_test_predict.predicted))\n",
    "print('Accuracy Score for train dataset : ' , metrics.accuracy_score(rfl_train_predict.actual, rfl_train_predict.predicted))\n",
    "print('ROC-AUC Score for train dataset : ' , metrics.roc_auc_score(rfl_train_predict.actual, rfl_train_predict.predicted))\n",
    "print('ROC-AUC Score for validation dataset : ' , metrics.roc_auc_score(rfl_test_predict.actual, rfl_test_predict.predicted))\n"
   ]
  },
  {
   "cell_type": "code",
   "execution_count": 59,
   "id": "67ce99de",
   "metadata": {
    "ExecuteTime": {
     "end_time": "2022-06-11T08:24:36.218766Z",
     "start_time": "2022-06-11T08:24:36.054820Z"
    }
   },
   "outputs": [
    {
     "data": {
      "text/plain": [
       "<AxesSubplot:>"
      ]
     },
     "execution_count": 59,
     "metadata": {},
     "output_type": "execute_result"
    },
    {
     "data": {
      "image/png": "[encoded data removed]",
      "text/plain": [
       "<Figure size 432x288 with 2 Axes>"
      ]
     },
     "metadata": {
      "needs_background": "light"
     },
     "output_type": "display_data"
    }
   ],
   "source": [
    "#confusion matrix\n",
    "conn_cm_test = metrics.confusion_matrix(rfl_test_predict.actual, rfl_test_predict.predicted)\n",
    "sns.heatmap(conn_cm_test, fmt= '.2f', annot=True)"
   ]
  },
  {
   "cell_type": "code",
   "execution_count": 60,
   "id": "3a9ff5c0",
   "metadata": {
    "ExecuteTime": {
     "end_time": "2022-06-11T08:24:51.475305Z",
     "start_time": "2022-06-11T08:24:51.404128Z"
    }
   },
   "outputs": [
    {
     "name": "stdout",
     "output_type": "stream",
     "text": [
      "              precision    recall  f1-score   support\n",
      "\n",
      "           0       0.94      0.94      0.94     16307\n",
      "           1       0.95      0.95      0.95     19797\n",
      "\n",
      "    accuracy                           0.95     36104\n",
      "   macro avg       0.95      0.95      0.95     36104\n",
      "weighted avg       0.95      0.95      0.95     36104\n",
      "\n"
     ]
    }
   ],
   "source": [
    "print(metrics.classification_report(rfl_test_predict.actual, rfl_test_predict.predicted))"
   ]
  },
  {
   "cell_type": "markdown",
   "id": "f97d0073",
   "metadata": {},
   "source": [
    "# 9-Classification Model Evaluation"
   ]
  },
  {
   "cell_type": "markdown",
   "id": "4d3e9017",
   "metadata": {},
   "source": [
    "# 10-Saving the trained regression model to pickle file"
   ]
  },
  {
   "cell_type": "code",
   "execution_count": 62,
   "id": "ccd205e0",
   "metadata": {
    "ExecuteTime": {
     "end_time": "2022-06-11T08:26:16.321706Z",
     "start_time": "2022-06-11T08:26:16.276827Z"
    }
   },
   "outputs": [],
   "source": [
    "filename = 'Late_delivery_risk_prediction.pkl'\n",
    "pickle.dump(best_model,open(filename,'wb'))"
   ]
  },
  {
   "cell_type": "code",
   "execution_count": null,
   "id": "4fa6bf40",
   "metadata": {},
   "outputs": [],
   "source": [
    "pickle.load('Late_delivery_risk_prediction.pkl')"
   ]
  }
 ],
 "metadata": {
  "kernelspec": {
   "display_name": "Python 3 (ipykernel)",
   "language": "python",
   "name": "python3"
  },
  "language_info": {
   "codemirror_mode": {
    "name": "ipython",
    "version": 3
   },
   "file_extension": ".py",
   "mimetype": "text/x-python",
   "name": "python",
   "nbconvert_exporter": "python",
   "pygments_lexer": "ipython3",
   "version": "3.9.12"
  }
 },
 "nbformat": 4,
 "nbformat_minor": 5
}
